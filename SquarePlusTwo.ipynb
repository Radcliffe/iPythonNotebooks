{
 "metadata": {
  "name": "",
  "signature": "sha256:a349168028d142cfcd1d1dba5919104b26517e3b5ce84661dd286ecd8c243c26"
 },
 "nbformat": 3,
 "nbformat_minor": 0,
 "worksheets": [
  {
   "cells": [
    {
     "cell_type": "markdown",
     "metadata": {},
     "source": [
      "# When is the \"square plus two\" graph connected?\n",
      "\n",
      "Let $G(n)$ be the undirected graph with vertices $0, 1, 2, \\ldots, n-1$\n",
      "and an edge between $k$ and $(k^2+2)\\text{ mod }n$ for each $k$ from 0 to $n-1$.\n",
      "For which positive integers $n$ is the graph $G(n)$ connected?"
     ]
    },
    {
     "cell_type": "code",
     "collapsed": false,
     "input": [
      "from igraph import *\n",
      "\n",
      "def g(n):\n",
      "    g = Graph(n, directed=False)\n",
      "    g.add_edges((k, (k*k+2) % n) for k in xrange(n))\n",
      "    return g"
     ],
     "language": "python",
     "metadata": {},
     "outputs": [],
     "prompt_number": 1
    },
    {
     "cell_type": "markdown",
     "metadata": {},
     "source": [
      "For example, $G(27)$ is connected, but $G(31)$ is not connected.\n"
     ]
    },
    {
     "cell_type": "code",
     "collapsed": false,
     "input": [
      "plot(g(27), bbox=(200,200), vertex_size=10)"
     ],
     "language": "python",
     "metadata": {},
     "outputs": [
      {
       "metadata": {},
       "output_type": "pyout",
       "prompt_number": 2,
       "svg": [
        "<?xml version=\"1.0\" encoding=\"UTF-8\"?>\n",
        "<svg xmlns=\"http://www.w3.org/2000/svg\" xmlns:xlink=\"http://www.w3.org/1999/xlink\" width=\"200pt\" height=\"200pt\" viewBox=\"0 0 200 200\" version=\"1.1\">\n",
        "<g id=\"surface2\">\n",
        "<rect x=\"0\" y=\"0\" width=\"200\" height=\"200\" style=\"fill:rgb(100%,100%,100%);fill-opacity:1;stroke:none;\"/>\n",
        "<path style=\"fill:none;stroke-width:1;stroke-linecap:butt;stroke-linejoin:miter;stroke:rgb(26.666667%,26.666667%,26.666667%);stroke-opacity:1;stroke-miterlimit:10;\" d=\"M 83.152344 151.617188 L 74.382812 120.902344 \"/>\n",
        "<path style=\"fill:none;stroke-width:1;stroke-linecap:butt;stroke-linejoin:miter;stroke:rgb(26.666667%,26.666667%,26.666667%);stroke-opacity:1;stroke-miterlimit:10;\" d=\"M 102.523438 25.148438 L 106.207031 56.660156 \"/>\n",
        "<path style=\"fill:none;stroke-width:1;stroke-linecap:butt;stroke-linejoin:miter;stroke:rgb(26.666667%,26.666667%,26.666667%);stroke-opacity:1;stroke-miterlimit:10;\" d=\"M 74.382812 120.902344 L 98.269531 100.246094 \"/>\n",
        "<path style=\"fill:none;stroke-width:1;stroke-linecap:butt;stroke-linejoin:miter;stroke:rgb(26.666667%,26.666667%,26.666667%);stroke-opacity:1;stroke-miterlimit:10;\" d=\"M 106.207031 56.660156 L 123.652344 81.632812 \"/>\n",
        "<path style=\"fill:none;stroke-width:1;stroke-linecap:butt;stroke-linejoin:miter;stroke:rgb(26.666667%,26.666667%,26.666667%);stroke-opacity:1;stroke-miterlimit:10;\" d=\"M 42.628906 165.976562 L 53.328125 138.683594 \"/>\n",
        "<path style=\"fill:none;stroke-width:1;stroke-linecap:butt;stroke-linejoin:miter;stroke:rgb(26.666667%,26.666667%,26.666667%);stroke-opacity:1;stroke-miterlimit:10;\" d=\"M 83.152344 151.617188 L 73.933594 180 \"/>\n",
        "<path style=\"fill:none;stroke-width:1;stroke-linecap:butt;stroke-linejoin:miter;stroke:rgb(26.666667%,26.666667%,26.666667%);stroke-opacity:1;stroke-miterlimit:10;\" d=\"M 98.269531 100.246094 L 123.652344 81.632812 \"/>\n",
        "<path style=\"fill:none;stroke-width:1;stroke-linecap:butt;stroke-linejoin:miter;stroke:rgb(26.666667%,26.666667%,26.666667%);stroke-opacity:1;stroke-miterlimit:10;\" d=\"M 127.167969 20 L 130.210938 50.671875 \"/>\n",
        "<path style=\"fill:none;stroke-width:1;stroke-linecap:butt;stroke-linejoin:miter;stroke:rgb(26.666667%,26.666667%,26.666667%);stroke-opacity:1;stroke-miterlimit:10;\" d=\"M 180 78.546875 L 152.421875 88.390625 \"/>\n",
        "<path style=\"fill:none;stroke-width:1;stroke-linecap:butt;stroke-linejoin:miter;stroke:rgb(26.666667%,26.666667%,26.666667%);stroke-opacity:1;stroke-miterlimit:10;\" d=\"M 74.382812 120.902344 L 47.640625 104.308594 \"/>\n",
        "<path style=\"fill:none;stroke-width:1;stroke-linecap:butt;stroke-linejoin:miter;stroke:rgb(26.666667%,26.666667%,26.666667%);stroke-opacity:1;stroke-miterlimit:10;\" d=\"M 144.136719 136.925781 L 136.570312 108.796875 \"/>\n",
        "<path style=\"fill:none;stroke-width:1;stroke-linecap:butt;stroke-linejoin:miter;stroke:rgb(26.666667%,26.666667%,26.666667%);stroke-opacity:1;stroke-miterlimit:10;\" d=\"M 123.652344 81.632812 C 133.871094 82.101562 140.636719 77.496094 143.949219 67.8125 \"/>\n",
        "<path style=\"fill:none;stroke-width:1;stroke-linecap:butt;stroke-linejoin:miter;stroke:rgb(26.666667%,26.666667%,26.666667%);stroke-opacity:1;stroke-miterlimit:10;\" d=\"M 123.652344 81.632812 L 152.421875 88.390625 \"/>\n",
        "<path style=\"fill:none;stroke-width:1;stroke-linecap:butt;stroke-linejoin:miter;stroke:rgb(26.666667%,26.666667%,26.666667%);stroke-opacity:1;stroke-miterlimit:10;\" d=\"M 47.640625 104.308594 L 28.285156 82.175781 \"/>\n",
        "<path style=\"fill:none;stroke-width:1;stroke-linecap:butt;stroke-linejoin:miter;stroke:rgb(26.666667%,26.666667%,26.666667%);stroke-opacity:1;stroke-miterlimit:10;\" d=\"M 47.640625 104.308594 L 20 106.582031 \"/>\n",
        "<path style=\"fill:none;stroke-width:1;stroke-linecap:butt;stroke-linejoin:miter;stroke:rgb(26.666667%,26.666667%,26.666667%);stroke-opacity:1;stroke-miterlimit:10;\" d=\"M 123.652344 81.632812 C 126.960938 71.953125 133.726562 67.34375 143.949219 67.8125 \"/>\n",
        "<path style=\"fill:none;stroke-width:1;stroke-linecap:butt;stroke-linejoin:miter;stroke:rgb(26.666667%,26.666667%,26.666667%);stroke-opacity:1;stroke-miterlimit:10;\" d=\"M 143.949219 67.8125 L 169.203125 50.503906 \"/>\n",
        "<path style=\"fill:none;stroke-width:1;stroke-linecap:butt;stroke-linejoin:miter;stroke:rgb(26.666667%,26.666667%,26.666667%);stroke-opacity:1;stroke-miterlimit:10;\" d=\"M 162.167969 124.984375 L 136.570312 108.796875 \"/>\n",
        "<path style=\"fill:none;stroke-width:1;stroke-linecap:butt;stroke-linejoin:miter;stroke:rgb(26.666667%,26.666667%,26.666667%);stroke-opacity:1;stroke-miterlimit:10;\" d=\"M 74.382812 120.902344 L 53.328125 138.683594 \"/>\n",
        "<path style=\"fill:none;stroke-width:1;stroke-linecap:butt;stroke-linejoin:miter;stroke:rgb(26.666667%,26.666667%,26.666667%);stroke-opacity:1;stroke-miterlimit:10;\" d=\"M 152.421875 88.390625 L 177.113281 103.976562 \"/>\n",
        "<path style=\"fill:none;stroke-width:1;stroke-linecap:butt;stroke-linejoin:miter;stroke:rgb(26.666667%,26.666667%,26.666667%);stroke-opacity:1;stroke-miterlimit:10;\" d=\"M 149.988281 27.882812 L 130.210938 50.671875 \"/>\n",
        "<path style=\"fill:none;stroke-width:1;stroke-linecap:butt;stroke-linejoin:miter;stroke:rgb(26.666667%,26.666667%,26.666667%);stroke-opacity:1;stroke-miterlimit:10;\" d=\"M 123.652344 81.632812 L 136.570312 108.796875 \"/>\n",
        "<path style=\"fill:none;stroke-width:1;stroke-linecap:butt;stroke-linejoin:miter;stroke:rgb(26.666667%,26.666667%,26.666667%);stroke-opacity:1;stroke-miterlimit:10;\" d=\"M 83.152344 151.617188 L 97.417969 177.300781 \"/>\n",
        "<path style=\"fill:none;stroke-width:1;stroke-linecap:butt;stroke-linejoin:miter;stroke:rgb(26.666667%,26.666667%,26.666667%);stroke-opacity:1;stroke-miterlimit:10;\" d=\"M 53.328125 138.683594 L 26.101562 143.507812 \"/>\n",
        "<path style=\"fill:none;stroke-width:1;stroke-linecap:butt;stroke-linejoin:miter;stroke:rgb(26.666667%,26.666667%,26.666667%);stroke-opacity:1;stroke-miterlimit:10;\" d=\"M 123.652344 81.632812 L 130.210938 50.671875 \"/>\n",
        "<path style=\"fill:none;stroke-width:1;stroke-linecap:butt;stroke-linejoin:miter;stroke:rgb(26.666667%,26.666667%,26.666667%);stroke-opacity:1;stroke-miterlimit:10;\" d=\"M 98.269531 100.246094 L 80.527344 83.0625 \"/>\n",
        "<path style=\"fill:none;stroke-width:1;stroke-linecap:butt;stroke-linejoin:miter;stroke:rgb(26.666667%,26.666667%,26.666667%);stroke-opacity:1;stroke-miterlimit:10;\" d=\"M 106.207031 56.660156 L 84.539062 37.582031 \"/>\n",
        "<path style=\"fill-rule:nonzero;fill:rgb(100%,0%,0%);fill-opacity:1;stroke-width:1;stroke-linecap:butt;stroke-linejoin:miter;stroke:rgb(0%,0%,0%);stroke-opacity:1;stroke-miterlimit:10;\" d=\"M 88.152344 151.617188 C 88.152344 158.285156 78.152344 158.285156 78.152344 151.617188 C 78.152344 144.949219 88.152344 144.949219 88.152344 151.617188 \"/>\n",
        "<path style=\"fill-rule:nonzero;fill:rgb(100%,0%,0%);fill-opacity:1;stroke-width:1;stroke-linecap:butt;stroke-linejoin:miter;stroke:rgb(0%,0%,0%);stroke-opacity:1;stroke-miterlimit:10;\" d=\"M 107.523438 25.148438 C 107.523438 31.816406 97.523438 31.816406 97.523438 25.148438 C 97.523438 18.480469 107.523438 18.480469 107.523438 25.148438 \"/>\n",
        "<path style=\"fill-rule:nonzero;fill:rgb(100%,0%,0%);fill-opacity:1;stroke-width:1;stroke-linecap:butt;stroke-linejoin:miter;stroke:rgb(0%,0%,0%);stroke-opacity:1;stroke-miterlimit:10;\" d=\"M 79.382812 120.902344 C 79.382812 127.566406 69.382812 127.566406 69.382812 120.902344 C 69.382812 114.234375 79.382812 114.234375 79.382812 120.902344 \"/>\n",
        "<path style=\"fill-rule:nonzero;fill:rgb(100%,0%,0%);fill-opacity:1;stroke-width:1;stroke-linecap:butt;stroke-linejoin:miter;stroke:rgb(0%,0%,0%);stroke-opacity:1;stroke-miterlimit:10;\" d=\"M 111.207031 56.660156 C 111.207031 63.324219 101.207031 63.324219 101.207031 56.660156 C 101.207031 49.992188 111.207031 49.992188 111.207031 56.660156 \"/>\n",
        "<path style=\"fill-rule:nonzero;fill:rgb(100%,0%,0%);fill-opacity:1;stroke-width:1;stroke-linecap:butt;stroke-linejoin:miter;stroke:rgb(0%,0%,0%);stroke-opacity:1;stroke-miterlimit:10;\" d=\"M 47.628906 165.976562 C 47.628906 172.644531 37.628906 172.644531 37.628906 165.976562 C 37.628906 159.308594 47.628906 159.308594 47.628906 165.976562 \"/>\n",
        "<path style=\"fill-rule:nonzero;fill:rgb(100%,0%,0%);fill-opacity:1;stroke-width:1;stroke-linecap:butt;stroke-linejoin:miter;stroke:rgb(0%,0%,0%);stroke-opacity:1;stroke-miterlimit:10;\" d=\"M 78.933594 180 C 78.933594 186.667969 68.933594 186.667969 68.933594 180 C 68.933594 173.332031 78.933594 173.332031 78.933594 180 \"/>\n",
        "<path style=\"fill-rule:nonzero;fill:rgb(100%,0%,0%);fill-opacity:1;stroke-width:1;stroke-linecap:butt;stroke-linejoin:miter;stroke:rgb(0%,0%,0%);stroke-opacity:1;stroke-miterlimit:10;\" d=\"M 103.269531 100.246094 C 103.269531 106.910156 93.269531 106.910156 93.269531 100.246094 C 93.269531 93.578125 103.269531 93.578125 103.269531 100.246094 \"/>\n",
        "<path style=\"fill-rule:nonzero;fill:rgb(100%,0%,0%);fill-opacity:1;stroke-width:1;stroke-linecap:butt;stroke-linejoin:miter;stroke:rgb(0%,0%,0%);stroke-opacity:1;stroke-miterlimit:10;\" d=\"M 132.167969 20 C 132.167969 26.667969 122.167969 26.667969 122.167969 20 C 122.167969 13.332031 132.167969 13.332031 132.167969 20 \"/>\n",
        "<path style=\"fill-rule:nonzero;fill:rgb(100%,0%,0%);fill-opacity:1;stroke-width:1;stroke-linecap:butt;stroke-linejoin:miter;stroke:rgb(0%,0%,0%);stroke-opacity:1;stroke-miterlimit:10;\" d=\"M 185 78.546875 C 185 85.214844 175 85.214844 175 78.546875 C 175 71.882812 185 71.882812 185 78.546875 \"/>\n",
        "<path style=\"fill-rule:nonzero;fill:rgb(100%,0%,0%);fill-opacity:1;stroke-width:1;stroke-linecap:butt;stroke-linejoin:miter;stroke:rgb(0%,0%,0%);stroke-opacity:1;stroke-miterlimit:10;\" d=\"M 52.640625 104.308594 C 52.640625 110.976562 42.640625 110.976562 42.640625 104.308594 C 42.640625 97.640625 52.640625 97.640625 52.640625 104.308594 \"/>\n",
        "<path style=\"fill-rule:nonzero;fill:rgb(100%,0%,0%);fill-opacity:1;stroke-width:1;stroke-linecap:butt;stroke-linejoin:miter;stroke:rgb(0%,0%,0%);stroke-opacity:1;stroke-miterlimit:10;\" d=\"M 149.136719 136.925781 C 149.136719 143.589844 139.136719 143.589844 139.136719 136.925781 C 139.136719 130.257812 149.136719 130.257812 149.136719 136.925781 \"/>\n",
        "<path style=\"fill-rule:nonzero;fill:rgb(100%,0%,0%);fill-opacity:1;stroke-width:1;stroke-linecap:butt;stroke-linejoin:miter;stroke:rgb(0%,0%,0%);stroke-opacity:1;stroke-miterlimit:10;\" d=\"M 128.652344 81.632812 C 128.652344 88.300781 118.652344 88.300781 118.652344 81.632812 C 118.652344 74.96875 128.652344 74.96875 128.652344 81.632812 \"/>\n",
        "<path style=\"fill-rule:nonzero;fill:rgb(100%,0%,0%);fill-opacity:1;stroke-width:1;stroke-linecap:butt;stroke-linejoin:miter;stroke:rgb(0%,0%,0%);stroke-opacity:1;stroke-miterlimit:10;\" d=\"M 157.421875 88.390625 C 157.421875 95.054688 147.421875 95.054688 147.421875 88.390625 C 147.421875 81.722656 157.421875 81.722656 157.421875 88.390625 \"/>\n",
        "<path style=\"fill-rule:nonzero;fill:rgb(100%,0%,0%);fill-opacity:1;stroke-width:1;stroke-linecap:butt;stroke-linejoin:miter;stroke:rgb(0%,0%,0%);stroke-opacity:1;stroke-miterlimit:10;\" d=\"M 33.285156 82.175781 C 33.285156 88.84375 23.285156 88.84375 23.285156 82.175781 C 23.285156 75.511719 33.285156 75.511719 33.285156 82.175781 \"/>\n",
        "<path style=\"fill-rule:nonzero;fill:rgb(100%,0%,0%);fill-opacity:1;stroke-width:1;stroke-linecap:butt;stroke-linejoin:miter;stroke:rgb(0%,0%,0%);stroke-opacity:1;stroke-miterlimit:10;\" d=\"M 25 106.582031 C 25 113.25 15 113.25 15 106.582031 C 15 99.917969 25 99.917969 25 106.582031 \"/>\n",
        "<path style=\"fill-rule:nonzero;fill:rgb(100%,0%,0%);fill-opacity:1;stroke-width:1;stroke-linecap:butt;stroke-linejoin:miter;stroke:rgb(0%,0%,0%);stroke-opacity:1;stroke-miterlimit:10;\" d=\"M 148.949219 67.8125 C 148.949219 74.480469 138.949219 74.480469 138.949219 67.8125 C 138.949219 61.144531 148.949219 61.144531 148.949219 67.8125 \"/>\n",
        "<path style=\"fill-rule:nonzero;fill:rgb(100%,0%,0%);fill-opacity:1;stroke-width:1;stroke-linecap:butt;stroke-linejoin:miter;stroke:rgb(0%,0%,0%);stroke-opacity:1;stroke-miterlimit:10;\" d=\"M 174.203125 50.503906 C 174.203125 57.171875 164.203125 57.171875 164.203125 50.503906 C 164.203125 43.835938 174.203125 43.835938 174.203125 50.503906 \"/>\n",
        "<path style=\"fill-rule:nonzero;fill:rgb(100%,0%,0%);fill-opacity:1;stroke-width:1;stroke-linecap:butt;stroke-linejoin:miter;stroke:rgb(0%,0%,0%);stroke-opacity:1;stroke-miterlimit:10;\" d=\"M 167.167969 124.984375 C 167.167969 131.652344 157.167969 131.652344 157.167969 124.984375 C 157.167969 118.316406 167.167969 118.316406 167.167969 124.984375 \"/>\n",
        "<path style=\"fill-rule:nonzero;fill:rgb(100%,0%,0%);fill-opacity:1;stroke-width:1;stroke-linecap:butt;stroke-linejoin:miter;stroke:rgb(0%,0%,0%);stroke-opacity:1;stroke-miterlimit:10;\" d=\"M 58.328125 138.683594 C 58.328125 145.351562 48.328125 145.351562 48.328125 138.683594 C 48.328125 132.015625 58.328125 132.015625 58.328125 138.683594 \"/>\n",
        "<path style=\"fill-rule:nonzero;fill:rgb(100%,0%,0%);fill-opacity:1;stroke-width:1;stroke-linecap:butt;stroke-linejoin:miter;stroke:rgb(0%,0%,0%);stroke-opacity:1;stroke-miterlimit:10;\" d=\"M 182.113281 103.976562 C 182.113281 110.644531 172.113281 110.644531 172.113281 103.976562 C 172.113281 97.3125 182.113281 97.3125 182.113281 103.976562 \"/>\n",
        "<path style=\"fill-rule:nonzero;fill:rgb(100%,0%,0%);fill-opacity:1;stroke-width:1;stroke-linecap:butt;stroke-linejoin:miter;stroke:rgb(0%,0%,0%);stroke-opacity:1;stroke-miterlimit:10;\" d=\"M 154.988281 27.882812 C 154.988281 34.550781 144.988281 34.550781 144.988281 27.882812 C 144.988281 21.214844 154.988281 21.214844 154.988281 27.882812 \"/>\n",
        "<path style=\"fill-rule:nonzero;fill:rgb(100%,0%,0%);fill-opacity:1;stroke-width:1;stroke-linecap:butt;stroke-linejoin:miter;stroke:rgb(0%,0%,0%);stroke-opacity:1;stroke-miterlimit:10;\" d=\"M 141.570312 108.796875 C 141.570312 115.464844 131.570312 115.464844 131.570312 108.796875 C 131.570312 102.132812 141.570312 102.132812 141.570312 108.796875 \"/>\n",
        "<path style=\"fill-rule:nonzero;fill:rgb(100%,0%,0%);fill-opacity:1;stroke-width:1;stroke-linecap:butt;stroke-linejoin:miter;stroke:rgb(0%,0%,0%);stroke-opacity:1;stroke-miterlimit:10;\" d=\"M 102.417969 177.300781 C 102.417969 183.96875 92.417969 183.96875 92.417969 177.300781 C 92.417969 170.636719 102.417969 170.636719 102.417969 177.300781 \"/>\n",
        "<path style=\"fill-rule:nonzero;fill:rgb(100%,0%,0%);fill-opacity:1;stroke-width:1;stroke-linecap:butt;stroke-linejoin:miter;stroke:rgb(0%,0%,0%);stroke-opacity:1;stroke-miterlimit:10;\" d=\"M 31.101562 143.507812 C 31.101562 150.171875 21.101562 150.171875 21.101562 143.507812 C 21.101562 136.839844 31.101562 136.839844 31.101562 143.507812 \"/>\n",
        "<path style=\"fill-rule:nonzero;fill:rgb(100%,0%,0%);fill-opacity:1;stroke-width:1;stroke-linecap:butt;stroke-linejoin:miter;stroke:rgb(0%,0%,0%);stroke-opacity:1;stroke-miterlimit:10;\" d=\"M 135.210938 50.671875 C 135.210938 57.335938 125.210938 57.335938 125.210938 50.671875 C 125.210938 44.003906 135.210938 44.003906 135.210938 50.671875 \"/>\n",
        "<path style=\"fill-rule:nonzero;fill:rgb(100%,0%,0%);fill-opacity:1;stroke-width:1;stroke-linecap:butt;stroke-linejoin:miter;stroke:rgb(0%,0%,0%);stroke-opacity:1;stroke-miterlimit:10;\" d=\"M 85.527344 83.0625 C 85.527344 89.730469 75.527344 89.730469 75.527344 83.0625 C 75.527344 76.398438 85.527344 76.398438 85.527344 83.0625 \"/>\n",
        "<path style=\"fill-rule:nonzero;fill:rgb(100%,0%,0%);fill-opacity:1;stroke-width:1;stroke-linecap:butt;stroke-linejoin:miter;stroke:rgb(0%,0%,0%);stroke-opacity:1;stroke-miterlimit:10;\" d=\"M 89.539062 37.582031 C 89.539062 44.25 79.539062 44.25 79.539062 37.582031 C 79.539062 30.914062 89.539062 30.914062 89.539062 37.582031 \"/>\n",
        "</g>\n",
        "</svg>\n"
       ],
       "text": [
        "<igraph.drawing.Plot at 0x7f8b0c1cd410>"
       ]
      }
     ],
     "prompt_number": 2
    },
    {
     "cell_type": "code",
     "collapsed": false,
     "input": [
      "plot(g(31), bbox=(200,200), vertex_size=10)"
     ],
     "language": "python",
     "metadata": {},
     "outputs": [
      {
       "metadata": {},
       "output_type": "pyout",
       "prompt_number": 3,
       "svg": [
        "<?xml version=\"1.0\" encoding=\"UTF-8\"?>\n",
        "<svg xmlns=\"http://www.w3.org/2000/svg\" xmlns:xlink=\"http://www.w3.org/1999/xlink\" width=\"200pt\" height=\"200pt\" viewBox=\"0 0 200 200\" version=\"1.1\">\n",
        "<g id=\"surface8\">\n",
        "<rect x=\"0\" y=\"0\" width=\"200\" height=\"200\" style=\"fill:rgb(100%,100%,100%);fill-opacity:1;stroke:none;\"/>\n",
        "<path style=\"fill:none;stroke-width:1;stroke-linecap:butt;stroke-linejoin:miter;stroke:rgb(26.666667%,26.666667%,26.666667%);stroke-opacity:1;stroke-miterlimit:10;\" d=\"M 38.46875 145.898438 L 54.449219 154.589844 \"/>\n",
        "<path style=\"fill:none;stroke-width:1;stroke-linecap:butt;stroke-linejoin:miter;stroke:rgb(26.666667%,26.666667%,26.666667%);stroke-opacity:1;stroke-miterlimit:10;\" d=\"M 180 122.386719 L 163.191406 134.324219 \"/>\n",
        "<path style=\"fill:none;stroke-width:1;stroke-linecap:butt;stroke-linejoin:miter;stroke:rgb(26.666667%,26.666667%,26.666667%);stroke-opacity:1;stroke-miterlimit:10;\" d=\"M 54.449219 154.589844 L 74.671875 161.019531 \"/>\n",
        "<path style=\"fill:none;stroke-width:1;stroke-linecap:butt;stroke-linejoin:miter;stroke:rgb(26.666667%,26.666667%,26.666667%);stroke-opacity:1;stroke-miterlimit:10;\" d=\"M 163.191406 134.324219 L 160.035156 152.160156 \"/>\n",
        "<path style=\"fill:none;stroke-width:1;stroke-linecap:butt;stroke-linejoin:miter;stroke:rgb(26.666667%,26.666667%,26.666667%);stroke-opacity:1;stroke-miterlimit:10;\" d=\"M 128.554688 80.867188 L 139.414062 60.277344 \"/>\n",
        "<path style=\"fill:none;stroke-width:1;stroke-linecap:butt;stroke-linejoin:miter;stroke:rgb(26.666667%,26.666667%,26.666667%);stroke-opacity:1;stroke-miterlimit:10;\" d=\"M 175.15625 52.777344 L 163.527344 66.542969 \"/>\n",
        "<path style=\"fill:none;stroke-width:1;stroke-linecap:butt;stroke-linejoin:miter;stroke:rgb(26.666667%,26.666667%,26.666667%);stroke-opacity:1;stroke-miterlimit:10;\" d=\"M 74.671875 161.019531 L 95.53125 150.710938 \"/>\n",
        "<path style=\"fill:none;stroke-width:1;stroke-linecap:butt;stroke-linejoin:miter;stroke:rgb(26.666667%,26.666667%,26.666667%);stroke-opacity:1;stroke-miterlimit:10;\" d=\"M 95.53125 150.710938 L 119.375 155.851562 \"/>\n",
        "<path style=\"fill:none;stroke-width:1;stroke-linecap:butt;stroke-linejoin:miter;stroke:rgb(26.666667%,26.666667%,26.666667%);stroke-opacity:1;stroke-miterlimit:10;\" d=\"M 128.554688 80.867188 L 138.546875 98.15625 \"/>\n",
        "<path style=\"fill:none;stroke-width:1;stroke-linecap:butt;stroke-linejoin:miter;stroke:rgb(26.666667%,26.666667%,26.666667%);stroke-opacity:1;stroke-miterlimit:10;\" d=\"M 72.761719 42.460938 C 65.65625 41.070312 60.441406 43.589844 57.113281 50.019531 \"/>\n",
        "<path style=\"fill:none;stroke-width:1;stroke-linecap:butt;stroke-linejoin:miter;stroke:rgb(26.666667%,26.666667%,26.666667%);stroke-opacity:1;stroke-miterlimit:10;\" d=\"M 72.761719 42.460938 L 96.34375 37.898438 \"/>\n",
        "<path style=\"fill:none;stroke-width:1;stroke-linecap:butt;stroke-linejoin:miter;stroke:rgb(26.666667%,26.666667%,26.666667%);stroke-opacity:1;stroke-miterlimit:10;\" d=\"M 160.035156 152.160156 L 142.371094 145.203125 \"/>\n",
        "<path style=\"fill:none;stroke-width:1;stroke-linecap:butt;stroke-linejoin:miter;stroke:rgb(26.666667%,26.666667%,26.666667%);stroke-opacity:1;stroke-miterlimit:10;\" d=\"M 36.167969 89.867188 L 47.09375 70.066406 \"/>\n",
        "<path style=\"fill:none;stroke-width:1;stroke-linecap:butt;stroke-linejoin:miter;stroke:rgb(26.666667%,26.666667%,26.666667%);stroke-opacity:1;stroke-miterlimit:10;\" d=\"M 132.730469 26.300781 L 121.414062 42.207031 \"/>\n",
        "<path style=\"fill:none;stroke-width:1;stroke-linecap:butt;stroke-linejoin:miter;stroke:rgb(26.666667%,26.666667%,26.666667%);stroke-opacity:1;stroke-miterlimit:10;\" d=\"M 36.167969 89.867188 L 42.191406 109.222656 \"/>\n",
        "<path style=\"fill:none;stroke-width:1;stroke-linecap:butt;stroke-linejoin:miter;stroke:rgb(26.666667%,26.666667%,26.666667%);stroke-opacity:1;stroke-miterlimit:10;\" d=\"M 96.34375 37.898438 L 92.015625 20 \"/>\n",
        "<path style=\"fill:none;stroke-width:1;stroke-linecap:butt;stroke-linejoin:miter;stroke:rgb(26.666667%,26.666667%,26.666667%);stroke-opacity:1;stroke-miterlimit:10;\" d=\"M 96.34375 37.898438 L 121.414062 42.207031 \"/>\n",
        "<path style=\"fill:none;stroke-width:1;stroke-linecap:butt;stroke-linejoin:miter;stroke:rgb(26.666667%,26.666667%,26.666667%);stroke-opacity:1;stroke-miterlimit:10;\" d=\"M 36.167969 89.867188 L 20 98.347656 \"/>\n",
        "<path style=\"fill:none;stroke-width:1;stroke-linecap:butt;stroke-linejoin:miter;stroke:rgb(26.666667%,26.666667%,26.666667%);stroke-opacity:1;stroke-miterlimit:10;\" d=\"M 121.414062 42.207031 L 139.414062 60.277344 \"/>\n",
        "<path style=\"fill:none;stroke-width:1;stroke-linecap:butt;stroke-linejoin:miter;stroke:rgb(26.666667%,26.666667%,26.666667%);stroke-opacity:1;stroke-miterlimit:10;\" d=\"M 63.300781 80.6875 L 47.09375 70.066406 \"/>\n",
        "<path style=\"fill:none;stroke-width:1;stroke-linecap:butt;stroke-linejoin:miter;stroke:rgb(26.666667%,26.666667%,26.666667%);stroke-opacity:1;stroke-miterlimit:10;\" d=\"M 119.375 155.851562 L 142.371094 145.203125 \"/>\n",
        "<path style=\"fill:none;stroke-width:1;stroke-linecap:butt;stroke-linejoin:miter;stroke:rgb(26.666667%,26.666667%,26.666667%);stroke-opacity:1;stroke-miterlimit:10;\" d=\"M 72.761719 42.460938 C 69.4375 48.894531 64.21875 51.414062 57.113281 50.019531 \"/>\n",
        "<path style=\"fill:none;stroke-width:1;stroke-linecap:butt;stroke-linejoin:miter;stroke:rgb(26.666667%,26.666667%,26.666667%);stroke-opacity:1;stroke-miterlimit:10;\" d=\"M 57.113281 50.019531 L 47.09375 70.066406 \"/>\n",
        "<path style=\"fill:none;stroke-width:1;stroke-linecap:butt;stroke-linejoin:miter;stroke:rgb(26.666667%,26.666667%,26.666667%);stroke-opacity:1;stroke-miterlimit:10;\" d=\"M 128.554688 80.867188 L 108.972656 87.800781 \"/>\n",
        "<path style=\"fill:none;stroke-width:1;stroke-linecap:butt;stroke-linejoin:miter;stroke:rgb(26.666667%,26.666667%,26.666667%);stroke-opacity:1;stroke-miterlimit:10;\" d=\"M 119.375 155.851562 L 118.839844 176.585938 \"/>\n",
        "<path style=\"fill:none;stroke-width:1;stroke-linecap:butt;stroke-linejoin:miter;stroke:rgb(26.666667%,26.666667%,26.666667%);stroke-opacity:1;stroke-miterlimit:10;\" d=\"M 95.53125 150.710938 L 89.253906 131.234375 \"/>\n",
        "<path style=\"fill:none;stroke-width:1;stroke-linecap:butt;stroke-linejoin:miter;stroke:rgb(26.666667%,26.666667%,26.666667%);stroke-opacity:1;stroke-miterlimit:10;\" d=\"M 178.917969 81.421875 L 163.527344 66.542969 \"/>\n",
        "<path style=\"fill:none;stroke-width:1;stroke-linecap:butt;stroke-linejoin:miter;stroke:rgb(26.666667%,26.666667%,26.666667%);stroke-opacity:1;stroke-miterlimit:10;\" d=\"M 139.414062 60.277344 L 163.527344 66.542969 \"/>\n",
        "<path style=\"fill:none;stroke-width:1;stroke-linecap:butt;stroke-linejoin:miter;stroke:rgb(26.666667%,26.666667%,26.666667%);stroke-opacity:1;stroke-miterlimit:10;\" d=\"M 160.035156 152.160156 L 160.003906 170.535156 \"/>\n",
        "<path style=\"fill:none;stroke-width:1;stroke-linecap:butt;stroke-linejoin:miter;stroke:rgb(26.666667%,26.666667%,26.666667%);stroke-opacity:1;stroke-miterlimit:10;\" d=\"M 74.671875 161.019531 L 76.414062 180 \"/>\n",
        "<path style=\"fill:none;stroke-width:1;stroke-linecap:butt;stroke-linejoin:miter;stroke:rgb(26.666667%,26.666667%,26.666667%);stroke-opacity:1;stroke-miterlimit:10;\" d=\"M 163.191406 134.324219 L 142.371094 145.203125 \"/>\n",
        "<path style=\"fill-rule:nonzero;fill:rgb(100%,0%,0%);fill-opacity:1;stroke-width:1;stroke-linecap:butt;stroke-linejoin:miter;stroke:rgb(0%,0%,0%);stroke-opacity:1;stroke-miterlimit:10;\" d=\"M 43.46875 145.898438 C 43.46875 152.566406 33.46875 152.566406 33.46875 145.898438 C 33.46875 139.230469 43.46875 139.230469 43.46875 145.898438 \"/>\n",
        "<path style=\"fill-rule:nonzero;fill:rgb(100%,0%,0%);fill-opacity:1;stroke-width:1;stroke-linecap:butt;stroke-linejoin:miter;stroke:rgb(0%,0%,0%);stroke-opacity:1;stroke-miterlimit:10;\" d=\"M 185 122.386719 C 185 129.050781 175 129.050781 175 122.386719 C 175 115.71875 185 115.71875 185 122.386719 \"/>\n",
        "<path style=\"fill-rule:nonzero;fill:rgb(100%,0%,0%);fill-opacity:1;stroke-width:1;stroke-linecap:butt;stroke-linejoin:miter;stroke:rgb(0%,0%,0%);stroke-opacity:1;stroke-miterlimit:10;\" d=\"M 59.449219 154.589844 C 59.449219 161.257812 49.449219 161.257812 49.449219 154.589844 C 49.449219 147.921875 59.449219 147.921875 59.449219 154.589844 \"/>\n",
        "<path style=\"fill-rule:nonzero;fill:rgb(100%,0%,0%);fill-opacity:1;stroke-width:1;stroke-linecap:butt;stroke-linejoin:miter;stroke:rgb(0%,0%,0%);stroke-opacity:1;stroke-miterlimit:10;\" d=\"M 168.191406 134.324219 C 168.191406 140.992188 158.191406 140.992188 158.191406 134.324219 C 158.191406 127.660156 168.191406 127.660156 168.191406 134.324219 \"/>\n",
        "<path style=\"fill-rule:nonzero;fill:rgb(100%,0%,0%);fill-opacity:1;stroke-width:1;stroke-linecap:butt;stroke-linejoin:miter;stroke:rgb(0%,0%,0%);stroke-opacity:1;stroke-miterlimit:10;\" d=\"M 133.554688 80.867188 C 133.554688 87.53125 123.554688 87.53125 123.554688 80.867188 C 123.554688 74.199219 133.554688 74.199219 133.554688 80.867188 \"/>\n",
        "<path style=\"fill-rule:nonzero;fill:rgb(100%,0%,0%);fill-opacity:1;stroke-width:1;stroke-linecap:butt;stroke-linejoin:miter;stroke:rgb(0%,0%,0%);stroke-opacity:1;stroke-miterlimit:10;\" d=\"M 180.15625 52.777344 C 180.15625 59.445312 170.15625 59.445312 170.15625 52.777344 C 170.15625 46.113281 180.15625 46.113281 180.15625 52.777344 \"/>\n",
        "<path style=\"fill-rule:nonzero;fill:rgb(100%,0%,0%);fill-opacity:1;stroke-width:1;stroke-linecap:butt;stroke-linejoin:miter;stroke:rgb(0%,0%,0%);stroke-opacity:1;stroke-miterlimit:10;\" d=\"M 79.671875 161.019531 C 79.671875 167.6875 69.671875 167.6875 69.671875 161.019531 C 69.671875 154.351562 79.671875 154.351562 79.671875 161.019531 \"/>\n",
        "<path style=\"fill-rule:nonzero;fill:rgb(100%,0%,0%);fill-opacity:1;stroke-width:1;stroke-linecap:butt;stroke-linejoin:miter;stroke:rgb(0%,0%,0%);stroke-opacity:1;stroke-miterlimit:10;\" d=\"M 100.53125 150.710938 C 100.53125 157.375 90.53125 157.375 90.53125 150.710938 C 90.53125 144.042969 100.53125 144.042969 100.53125 150.710938 \"/>\n",
        "<path style=\"fill-rule:nonzero;fill:rgb(100%,0%,0%);fill-opacity:1;stroke-width:1;stroke-linecap:butt;stroke-linejoin:miter;stroke:rgb(0%,0%,0%);stroke-opacity:1;stroke-miterlimit:10;\" d=\"M 143.546875 98.15625 C 143.546875 104.820312 133.546875 104.820312 133.546875 98.15625 C 133.546875 91.488281 143.546875 91.488281 143.546875 98.15625 \"/>\n",
        "<path style=\"fill-rule:nonzero;fill:rgb(100%,0%,0%);fill-opacity:1;stroke-width:1;stroke-linecap:butt;stroke-linejoin:miter;stroke:rgb(0%,0%,0%);stroke-opacity:1;stroke-miterlimit:10;\" d=\"M 77.761719 42.460938 C 77.761719 49.128906 67.761719 49.128906 67.761719 42.460938 C 67.761719 35.792969 77.761719 35.792969 77.761719 42.460938 \"/>\n",
        "<path style=\"fill-rule:nonzero;fill:rgb(100%,0%,0%);fill-opacity:1;stroke-width:1;stroke-linecap:butt;stroke-linejoin:miter;stroke:rgb(0%,0%,0%);stroke-opacity:1;stroke-miterlimit:10;\" d=\"M 101.34375 37.898438 C 101.34375 44.566406 91.34375 44.566406 91.34375 37.898438 C 91.34375 31.230469 101.34375 31.230469 101.34375 37.898438 \"/>\n",
        "<path style=\"fill-rule:nonzero;fill:rgb(100%,0%,0%);fill-opacity:1;stroke-width:1;stroke-linecap:butt;stroke-linejoin:miter;stroke:rgb(0%,0%,0%);stroke-opacity:1;stroke-miterlimit:10;\" d=\"M 165.035156 152.160156 C 165.035156 158.824219 155.035156 158.824219 155.035156 152.160156 C 155.035156 145.492188 165.035156 145.492188 165.035156 152.160156 \"/>\n",
        "<path style=\"fill-rule:nonzero;fill:rgb(100%,0%,0%);fill-opacity:1;stroke-width:1;stroke-linecap:butt;stroke-linejoin:miter;stroke:rgb(0%,0%,0%);stroke-opacity:1;stroke-miterlimit:10;\" d=\"M 41.167969 89.867188 C 41.167969 96.535156 31.167969 96.535156 31.167969 89.867188 C 31.167969 83.203125 41.167969 83.203125 41.167969 89.867188 \"/>\n",
        "<path style=\"fill-rule:nonzero;fill:rgb(100%,0%,0%);fill-opacity:1;stroke-width:1;stroke-linecap:butt;stroke-linejoin:miter;stroke:rgb(0%,0%,0%);stroke-opacity:1;stroke-miterlimit:10;\" d=\"M 137.730469 26.300781 C 137.730469 32.964844 127.730469 32.964844 127.730469 26.300781 C 127.730469 19.632812 137.730469 19.632812 137.730469 26.300781 \"/>\n",
        "<path style=\"fill-rule:nonzero;fill:rgb(100%,0%,0%);fill-opacity:1;stroke-width:1;stroke-linecap:butt;stroke-linejoin:miter;stroke:rgb(0%,0%,0%);stroke-opacity:1;stroke-miterlimit:10;\" d=\"M 47.191406 109.222656 C 47.191406 115.886719 37.191406 115.886719 37.191406 109.222656 C 37.191406 102.554688 47.191406 102.554688 47.191406 109.222656 \"/>\n",
        "<path style=\"fill-rule:nonzero;fill:rgb(100%,0%,0%);fill-opacity:1;stroke-width:1;stroke-linecap:butt;stroke-linejoin:miter;stroke:rgb(0%,0%,0%);stroke-opacity:1;stroke-miterlimit:10;\" d=\"M 97.015625 20 C 97.015625 26.667969 87.015625 26.667969 87.015625 20 C 87.015625 13.332031 97.015625 13.332031 97.015625 20 \"/>\n",
        "<path style=\"fill-rule:nonzero;fill:rgb(100%,0%,0%);fill-opacity:1;stroke-width:1;stroke-linecap:butt;stroke-linejoin:miter;stroke:rgb(0%,0%,0%);stroke-opacity:1;stroke-miterlimit:10;\" d=\"M 126.414062 42.207031 C 126.414062 48.875 116.414062 48.875 116.414062 42.207031 C 116.414062 35.542969 126.414062 35.542969 126.414062 42.207031 \"/>\n",
        "<path style=\"fill-rule:nonzero;fill:rgb(100%,0%,0%);fill-opacity:1;stroke-width:1;stroke-linecap:butt;stroke-linejoin:miter;stroke:rgb(0%,0%,0%);stroke-opacity:1;stroke-miterlimit:10;\" d=\"M 25 98.347656 C 25 105.015625 15 105.015625 15 98.347656 C 15 91.683594 25 91.683594 25 98.347656 \"/>\n",
        "<path style=\"fill-rule:nonzero;fill:rgb(100%,0%,0%);fill-opacity:1;stroke-width:1;stroke-linecap:butt;stroke-linejoin:miter;stroke:rgb(0%,0%,0%);stroke-opacity:1;stroke-miterlimit:10;\" d=\"M 144.414062 60.277344 C 144.414062 66.945312 134.414062 66.945312 134.414062 60.277344 C 134.414062 53.613281 144.414062 53.613281 144.414062 60.277344 \"/>\n",
        "<path style=\"fill-rule:nonzero;fill:rgb(100%,0%,0%);fill-opacity:1;stroke-width:1;stroke-linecap:butt;stroke-linejoin:miter;stroke:rgb(0%,0%,0%);stroke-opacity:1;stroke-miterlimit:10;\" d=\"M 68.300781 80.6875 C 68.300781 87.351562 58.300781 87.351562 58.300781 80.6875 C 58.300781 74.019531 68.300781 74.019531 68.300781 80.6875 \"/>\n",
        "<path style=\"fill-rule:nonzero;fill:rgb(100%,0%,0%);fill-opacity:1;stroke-width:1;stroke-linecap:butt;stroke-linejoin:miter;stroke:rgb(0%,0%,0%);stroke-opacity:1;stroke-miterlimit:10;\" d=\"M 124.375 155.851562 C 124.375 162.519531 114.375 162.519531 114.375 155.851562 C 114.375 149.183594 124.375 149.183594 124.375 155.851562 \"/>\n",
        "<path style=\"fill-rule:nonzero;fill:rgb(100%,0%,0%);fill-opacity:1;stroke-width:1;stroke-linecap:butt;stroke-linejoin:miter;stroke:rgb(0%,0%,0%);stroke-opacity:1;stroke-miterlimit:10;\" d=\"M 62.113281 50.019531 C 62.113281 56.6875 52.113281 56.6875 52.113281 50.019531 C 52.113281 43.355469 62.113281 43.355469 62.113281 50.019531 \"/>\n",
        "<path style=\"fill-rule:nonzero;fill:rgb(100%,0%,0%);fill-opacity:1;stroke-width:1;stroke-linecap:butt;stroke-linejoin:miter;stroke:rgb(0%,0%,0%);stroke-opacity:1;stroke-miterlimit:10;\" d=\"M 52.09375 70.066406 C 52.09375 76.734375 42.09375 76.734375 42.09375 70.066406 C 42.09375 63.398438 52.09375 63.398438 52.09375 70.066406 \"/>\n",
        "<path style=\"fill-rule:nonzero;fill:rgb(100%,0%,0%);fill-opacity:1;stroke-width:1;stroke-linecap:butt;stroke-linejoin:miter;stroke:rgb(0%,0%,0%);stroke-opacity:1;stroke-miterlimit:10;\" d=\"M 113.972656 87.800781 C 113.972656 94.464844 103.972656 94.464844 103.972656 87.800781 C 103.972656 81.132812 113.972656 81.132812 113.972656 87.800781 \"/>\n",
        "<path style=\"fill-rule:nonzero;fill:rgb(100%,0%,0%);fill-opacity:1;stroke-width:1;stroke-linecap:butt;stroke-linejoin:miter;stroke:rgb(0%,0%,0%);stroke-opacity:1;stroke-miterlimit:10;\" d=\"M 123.839844 176.585938 C 123.839844 183.253906 113.839844 183.253906 113.839844 176.585938 C 113.839844 169.917969 123.839844 169.917969 123.839844 176.585938 \"/>\n",
        "<path style=\"fill-rule:nonzero;fill:rgb(100%,0%,0%);fill-opacity:1;stroke-width:1;stroke-linecap:butt;stroke-linejoin:miter;stroke:rgb(0%,0%,0%);stroke-opacity:1;stroke-miterlimit:10;\" d=\"M 94.253906 131.234375 C 94.253906 137.898438 84.253906 137.898438 84.253906 131.234375 C 84.253906 124.566406 94.253906 124.566406 94.253906 131.234375 \"/>\n",
        "<path style=\"fill-rule:nonzero;fill:rgb(100%,0%,0%);fill-opacity:1;stroke-width:1;stroke-linecap:butt;stroke-linejoin:miter;stroke:rgb(0%,0%,0%);stroke-opacity:1;stroke-miterlimit:10;\" d=\"M 183.917969 81.421875 C 183.917969 88.089844 173.917969 88.089844 173.917969 81.421875 C 173.917969 74.753906 183.917969 74.753906 183.917969 81.421875 \"/>\n",
        "<path style=\"fill-rule:nonzero;fill:rgb(100%,0%,0%);fill-opacity:1;stroke-width:1;stroke-linecap:butt;stroke-linejoin:miter;stroke:rgb(0%,0%,0%);stroke-opacity:1;stroke-miterlimit:10;\" d=\"M 168.527344 66.542969 C 168.527344 73.210938 158.527344 73.210938 158.527344 66.542969 C 158.527344 59.875 168.527344 59.875 168.527344 66.542969 \"/>\n",
        "<path style=\"fill-rule:nonzero;fill:rgb(100%,0%,0%);fill-opacity:1;stroke-width:1;stroke-linecap:butt;stroke-linejoin:miter;stroke:rgb(0%,0%,0%);stroke-opacity:1;stroke-miterlimit:10;\" d=\"M 165.003906 170.535156 C 165.003906 177.203125 155.003906 177.203125 155.003906 170.535156 C 155.003906 163.871094 165.003906 163.871094 165.003906 170.535156 \"/>\n",
        "<path style=\"fill-rule:nonzero;fill:rgb(100%,0%,0%);fill-opacity:1;stroke-width:1;stroke-linecap:butt;stroke-linejoin:miter;stroke:rgb(0%,0%,0%);stroke-opacity:1;stroke-miterlimit:10;\" d=\"M 81.414062 180 C 81.414062 186.667969 71.414062 186.667969 71.414062 180 C 71.414062 173.332031 81.414062 173.332031 81.414062 180 \"/>\n",
        "<path style=\"fill-rule:nonzero;fill:rgb(100%,0%,0%);fill-opacity:1;stroke-width:1;stroke-linecap:butt;stroke-linejoin:miter;stroke:rgb(0%,0%,0%);stroke-opacity:1;stroke-miterlimit:10;\" d=\"M 147.371094 145.203125 C 147.371094 151.867188 137.371094 151.867188 137.371094 145.203125 C 137.371094 138.535156 147.371094 138.535156 147.371094 145.203125 \"/>\n",
        "</g>\n",
        "</svg>\n"
       ],
       "text": [
        "<igraph.drawing.Plot at 0x7f8b0c1cd4d0>"
       ]
      }
     ],
     "prompt_number": 3
    },
    {
     "cell_type": "markdown",
     "metadata": {},
     "source": [
      "Here is a list of all $n < 10000$ for which $G(n)$ is connected."
     ]
    },
    {
     "cell_type": "code",
     "collapsed": false,
     "input": [
      "print [n for n in xrange(10000) if g(n).is_connected()]"
     ],
     "language": "python",
     "metadata": {},
     "outputs": [
      {
       "output_type": "stream",
       "stream": "stdout",
       "text": [
        "[0, 1, 3, 5, 7, 9, 13, 17, 19, 21, 27, 35, 41, 49, 57, 63, 73, 81, 91, 95, 119, 123, 131, 133, 139, 147, 171, 189, 205, 243, 245, 247, 287, 307, 323, 343, 361, 369, 393, 399, 417, 439, 441, 461, 511, 513, 523, 533, 567, 607, 637, 655, 665, 695, 697, 729, 733, 779, 811, 833, 861, 887, 917, 931, 973, 1029, 1083, 1097, 1107, 1179, 1197, 1249, 1251, 1317, 1323, 1435, 1447, 1539, 1559, 1681, 1701, 1703, 1715, 1729, 1805, 1807, 1931, 1949, 2009, 2149, 2187, 2195, 2199, 2227, 2261, 2309, 2337, 2363, 2401, 2489, 2527, 2583, 2593, 2661, 2751, 2793, 2903, 2919, 2993, 3073, 3087, 3227, 3249, 3251, 3321, 3373, 3537, 3577, 3591, 3661, 3665, 3731, 3753, 3797, 3895, 3911, 3951, 3969, 4249, 4259, 4297, 4435, 4459, 4483, 4585, 4617, 4655, 4677, 4693, 4865, 4879, 4919, 5043, 5099, 5103, 5131, 5381, 5453, 5677, 5699, 5707, 5711, 5831, 5833, 6027, 6137, 6209, 6397, 6419, 6517, 6561, 6597, 6811, 6859, 6927, 7011, 7203, 7463, 7467, 7581, 7679, 7749, 7795, 7983, 7993, 8179, 8253, 8263, 8341, 8379, 8405, 8741, 8743, 8757, 9103, 9219, 9261, 9413, 9529, 9563, 9747, 9937, 9963]\n"
       ]
      }
     ],
     "prompt_number": 4
    }
   ],
   "metadata": {}
  }
 ]
}