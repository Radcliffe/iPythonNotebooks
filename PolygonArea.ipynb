{
 "metadata": {
  "name": "",
  "signature": "sha256:1b5c20340491c2be8f378c9086c75f29573bf84bad2348e5a507a8c84e829f6e"
 },
 "nbformat": 3,
 "nbformat_minor": 0,
 "worksheets": [
  {
   "cells": [
    {
     "cell_type": "markdown",
     "metadata": {},
     "source": [
      "# Area of a polygon\n",
      "## David Radcliffe\n",
      "\n",
      "Let $P$ be a simple $n$-sided polygon in the plane with vertices $(x_1, y_1), (x_2, y_2), (x_3, y_3), \\ldots, (x_n, y_n)$, in cyclic order. For convenience, let us say that $(x_0, y_0) = (x_n, y_n)$. Then the area enclosed by $P$ is given by the \n",
      "following formula.\n",
      "\n",
      "$$A = \\frac12 \\left| \\sum_{i=1}^n \\left(x_{i-1} y_i - x_i y_{i-1}\\right)\\right|$$\n",
      "\n",
      "Here is a Python function that calculates the area of a simple polygon.\n"
     ]
    },
    {
     "cell_type": "code",
     "collapsed": false,
     "input": [
      "def polygon_area(v):\n",
      "    return 0.5 * abs(sum(v[i-1][0]*v[i][1] - v[i][0]*v[i-1][1] for i in xrange(len(v))))"
     ],
     "language": "python",
     "metadata": {},
     "outputs": [],
     "prompt_number": 1
    },
    {
     "cell_type": "markdown",
     "metadata": {},
     "source": [
      "For example, the polygon with vertices (0, 0), (1,0), (2, 1), (2, 2), (1, 2), and (0, 1) is 3."
     ]
    },
    {
     "cell_type": "code",
     "collapsed": false,
     "input": [
      "polygon = ((0, 0), (1, 0), (2, 1), (2, 2), (1, 2), (0, 1))\n",
      "print polygon_area(polygon)"
     ],
     "language": "python",
     "metadata": {},
     "outputs": [
      {
       "output_type": "stream",
       "stream": "stdout",
       "text": [
        "3.0\n"
       ]
      }
     ],
     "prompt_number": 2
    },
    {
     "cell_type": "markdown",
     "metadata": {},
     "source": [
      "**Reference:** Wolfram MathWorld, Area of a Polygon. http://mathworld.wolfram.com/PolygonArea.html"
     ]
    }
   ],
   "metadata": {}
  }
 ]
}