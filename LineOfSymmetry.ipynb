{
 "cells": [
  {
   "cell_type": "markdown",
   "metadata": {},
   "source": [
    "# Finding an approximate line of symmetry\n",
    "\n",
    "Given a set of points on the plane, find the line that minimizes the sum of squares of perpendicular distances. This line is an approximate \"long axis\" for a set of points.\n",
    "\n",
    "## Generate random points to test"
   ]
  },
  {
   "cell_type": "code",
   "execution_count": 58,
   "metadata": {
    "collapsed": false
   },
   "outputs": [
    {
     "name": "stdout",
     "output_type": "stream",
     "text": [
      "Populating the interactive namespace from numpy and matplotlib\n"
     ]
    },
    {
     "name": "stderr",
     "output_type": "stream",
     "text": [
      "WARNING: pylab import has clobbered these variables: ['sqrt']\n",
      "`%matplotlib` prevents importing * from pylab and numpy\n"
     ]
    }
   ],
   "source": [
    "%pylab inline\n",
    "import numpy as np\n",
    "import matplotlib.pyplot as plt\n",
    "from math import sqrt\n",
    "\n",
    "# Generate random points\n",
    "N = 50\n",
    "m = -0.36  # Slope\n",
    "(x0, y0) = (5, 7) # Center\n",
    "\n",
    "\n",
    "x = np.random.rand(N) + x0\n",
    "z = np.random.rand(N) + 7\n",
    "y = [a+m*b for a,b in zip(x,z)]\n"
   ]
  },
  {
   "cell_type": "markdown",
   "metadata": {},
   "source": [
    "## Find the line of best fit with perpendicular offsets"
   ]
  },
  {
   "cell_type": "code",
   "execution_count": 56,
   "metadata": {
    "collapsed": false
   },
   "outputs": [],
   "source": [
    "\n",
    "\n",
    "xmean = np.mean(x); ymean = np.mean(y)\n",
    "\n",
    "A = sum((x[i]-xmean)**2 - (y[i]-ymean)**2 for i in xrange(N))\n",
    "B = sum((x[i]-xmean) * (y[i]-ymean) for i in xrange(N))\n",
    "C = A/B\n",
    "slope = (-C+sqrt(C*C+4))/2\n",
    "\n",
    "x1 = min(x); x2 = max(x)\n",
    "xmean = np.mean(x); ymean = np.mean(y)\n",
    "y1 = ymean + (x1 - xmean) * slope\n",
    "y2 = ymean + (x2 - xmean) * slope\n"
   ]
  },
  {
   "cell_type": "markdown",
   "metadata": {},
   "source": [
    "## Plot points with line of best fit"
   ]
  },
  {
   "cell_type": "code",
   "execution_count": 57,
   "metadata": {
    "collapsed": false
   },
   "outputs": [
    {
     "data": {
      "image/png": "[encoded data removed]",
      "text/plain": [
       "<matplotlib.figure.Figure at 0x7f9c0b1c8650>"
      ]
     },
     "metadata": {},
     "output_type": "display_data"
    }
   ],
   "source": [
    "plt.scatter(x, y)\n",
    "plt.plot([x1, x2], [y1, y2], color='k', linestyle='-', linewidth=2)\n",
    "plt.show()"
   ]
  }
 ],
 "metadata": {
  "kernelspec": {
   "display_name": "Python 2",
   "language": "python",
   "name": "python2"
  },
  "language_info": {
   "codemirror_mode": {
    "name": "ipython",
    "version": 2
   },
   "file_extension": ".py",
   "mimetype": "text/x-python",
   "name": "python",
   "nbconvert_exporter": "python",
   "pygments_lexer": "ipython2",
   "version": "2.7.8"
  }
 },
 "nbformat": 4,
 "nbformat_minor": 0
}
